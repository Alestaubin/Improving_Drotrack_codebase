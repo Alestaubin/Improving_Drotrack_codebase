{
 "cells": [
  {
   "cell_type": "code",
   "execution_count": 1,
   "metadata": {},
   "outputs": [],
   "source": [
    "import numpy as np\n",
    "import cv2 as cv\n",
    "import matplotlib.pyplot as plt\n",
    "from segmentation.fuzzy_c_means import FuzzyCMeansSegmenter\n",
    "from filtering.kalman_filter import KalmanFilter\n",
    "from filtering.lowpass_filter import LowPassFilter"
   ]
  },
  {
   "cell_type": "code",
   "execution_count": 2,
   "metadata": {},
   "outputs": [],
   "source": [
    "video_path = \"../videos/slow_traffic_small.mp4\"\n",
    "out_path = \"/workspaces/python-opencv/repo/out/mean_shift.mp4\""
   ]
  },
  {
   "cell_type": "code",
   "execution_count": 3,
   "metadata": {},
   "outputs": [],
   "source": [
    "cap = cv.VideoCapture(video_path)\n",
    "fps = cap.get(cv.CAP_PROP_FPS)"
   ]
  },
  {
   "cell_type": "code",
   "execution_count": 4,
   "metadata": {},
   "outputs": [],
   "source": [
    "ret, frame = cap.read()"
   ]
  },
  {
   "cell_type": "code",
   "execution_count": 5,
   "metadata": {},
   "outputs": [],
   "source": [
    "# x, y, w, h = 625, 375, 75, 125\n",
    "x, y, w, h = 300, 180, 100, 60\n",
    "track_window = (x, y, w, h)\n",
    "\n",
    "inner_window = (int(x + w/4), int(y + h/4), int(w/2), int(h/2))"
   ]
  },
  {
   "cell_type": "code",
   "execution_count": 6,
   "metadata": {},
   "outputs": [],
   "source": [
    "roi = frame[y:y+h, x:x+w, :]\n",
    "\n",
    "# TODO SUBFRAME\n",
    "\n",
    "histogram_region = roi\n",
    "histogram_region_hsv = cv.cvtColor(histogram_region, cv.COLOR_BGR2HSV) "
   ]
  },
  {
   "cell_type": "code",
   "execution_count": 7,
   "metadata": {},
   "outputs": [],
   "source": [
    "fuzzy = FuzzyCMeansSegmenter(3, 0, 5, 2, 2, 10)\n",
    "segmented, centroids = fuzzy.segment_image(histogram_region_hsv, return_centroid=True)\n",
    "\n",
    "subset_segmented = segmented[int(h/4):int(3 * h/4), int(w/4):int(3 * w/4)]\n",
    "# subset_segmented = segmented\n",
    "\n",
    "counts = np.bincount(subset_segmented.flatten())\n",
    "dominant_index = np.argmax(counts)\n",
    "dominant_color = centroids[dominant_index]"
   ]
  },
  {
   "cell_type": "code",
   "execution_count": 8,
   "metadata": {},
   "outputs": [
    {
     "data": {
      "image/png": "[encoded data removed]",
      "text/plain": [
       "<Figure size 640x480 with 1 Axes>"
      ]
     },
     "metadata": {},
     "output_type": "display_data"
    }
   ],
   "source": [
    "plt.imshow(segmented)\n",
    "plt.axis(\"off\")\n",
    "plt.tight_layout()\n",
    "plt.show()"
   ]
  },
  {
   "cell_type": "code",
   "execution_count": 9,
   "metadata": {},
   "outputs": [
    {
     "data": {
      "image/png": "[encoded data removed]",
      "text/plain": [
       "<Figure size 640x480 with 1 Axes>"
      ]
     },
     "metadata": {},
     "output_type": "display_data"
    }
   ],
   "source": [
    "plt.imshow(subset_segmented)\n",
    "plt.axis(\"off\")\n",
    "plt.tight_layout()\n",
    "plt.show()"
   ]
  },
  {
   "cell_type": "code",
   "execution_count": 10,
   "metadata": {},
   "outputs": [
    {
     "name": "stdout",
     "output_type": "stream",
     "text": [
      "[55.74917616  0.         31.36740359]\n",
      "[168.55246717  92.33347556 147.82513692]\n"
     ]
    }
   ],
   "source": [
    "h, s, v = dominant_color\n",
    "std_h, std_s, std_v = np.std(roi, axis=(0, 1))\n",
    "\n",
    "lower_bound = np.array([max(h - std_h, 0), max(s - std_s, 0), max(v - std_v, 0)])\n",
    "upper_bound = np.array([min(h + std_h, 180), min(s + std_s, 255), min(v + std_v, 255)])\n",
    "\n",
    "print(lower_bound)\n",
    "print(upper_bound)"
   ]
  },
  {
   "cell_type": "code",
   "execution_count": 11,
   "metadata": {},
   "outputs": [],
   "source": [
    "hsv_roi = cv.cvtColor(roi, cv.COLOR_BGR2HSV)\n",
    "mask = cv.inRange(hsv_roi, lower_bound, upper_bound)"
   ]
  },
  {
   "cell_type": "code",
   "execution_count": 12,
   "metadata": {},
   "outputs": [],
   "source": [
    "roi_hist = cv.calcHist([hsv_roi], [0], mask, [180], [0, 180])\n",
    "roi_hist = cv.normalize(roi_hist, roi_hist, 0, 255, cv.NORM_MINMAX)"
   ]
  },
  {
   "cell_type": "code",
   "execution_count": 13,
   "metadata": {},
   "outputs": [],
   "source": [
    "fourcc = cv.VideoWriter_fourcc(*'mp4v')\n",
    "video_out = cv.VideoWriter(out_path, fourcc, 30, frame.shape[0:2][::-1]) "
   ]
  },
  {
   "cell_type": "code",
   "execution_count": 14,
   "metadata": {},
   "outputs": [],
   "source": [
    "term_crit = (cv.TERM_CRITERIA_EPS | cv.TERM_CRITERIA_COUNT, 100, 10)"
   ]
  },
  {
   "cell_type": "code",
   "execution_count": null,
   "metadata": {},
   "outputs": [],
   "source": [
    "def bbox_to_kalman_state(bbox):\n",
    "    x = bbox[0] + bbox[2]/2\n",
    "    y = bbox[1] + bbox[3]/2\n",
    "    w = bbox[2]\n",
    "    h = bbox[3]\n",
    "\n",
    "    return np.array(([x], [y], [w], [h]))\n",
    "\n",
    "first_obs = bbox_to_kalman_state(track_window)\n",
    "\n",
    "interlaced = np.zeros((8, 1))\n",
    "interlaced[::2, :] = first_obs\n",
    "\n",
    "dt = 1/fps\n",
    "\n",
    "F = np.identity(8)\n",
    "F[0, 1] = dt\n",
    "F[2, 3] = dt\n",
    "F[4, 5] = dt\n",
    "F[5, 7] = dt\n",
    "\n",
    "H = np.zeros((4, 8))\n",
    "H[0, 0] = 1\n",
    "H[1, 2] = 1\n",
    "H[2, 4] = 1\n",
    "H[3, 6] = 1\n",
    "\n",
    "Q = np.identity(8) * 0.9\n",
    "\n",
    "def kalman_state_to_bbox(kalman_state):\n",
    "    s = H @ kalman_state\n",
    "    return np.array([s[0] - s[2]/2, s[1] - s[3]/2, s[2], s[3]], dtype=np.int32)\n",
    "\n",
    "kalman = KalmanFilter(interlaced, F, H, Q=Q)\n",
    "lowpass = LowPassFilter(first_obs, np.array([[0.1], [0.1], [0.9], [0.9]]))"
   ]
  },
  {
   "cell_type": "code",
   "execution_count": 16,
   "metadata": {},
   "outputs": [],
   "source": [
    "while ret:\n",
    "    ret, frame = cap.read()\n",
    "\n",
    "    if not ret:\n",
    "        break\n",
    "\n",
    "    hsv = cv.cvtColor(frame, cv.COLOR_BGR2HSV)\n",
    "    dst = cv.calcBackProject([hsv], [0], roi_hist, [0, 180], 1)\n",
    "\n",
    "    # apply meanshift to get the new location\n",
    "    ret, track_window = cv.CamShift(dst, track_window, term_crit)\n",
    "\n",
    "    kalman_res = kalman_state_to_bbox(kalman.predict(bbox_to_kalman_state(track_window)))\n",
    "    lowpass_res = np.int_(lowpass.predict(kalman_res))\n",
    "    track_window = tuple(np.int_(lowpass_res.flatten()))\n",
    "\n",
    "    # Draw it on image\n",
    "    x, y, w, h = track_window\n",
    "    img2 = cv.rectangle(frame, (x, y), (x+w, y+h), 255, 2)\n",
    "    \n",
    "    video_out.write(img2)"
   ]
  },
  {
   "cell_type": "code",
   "execution_count": 17,
   "metadata": {},
   "outputs": [],
   "source": [
    "cap.release()\n",
    "video_out.release()\n",
    "cv.destroyAllWindows()"
   ]
  }
 ],
 "metadata": {
  "kernelspec": {
   "display_name": "Python 3",
   "language": "python",
   "name": "python3"
  },
  "language_info": {
   "codemirror_mode": {
    "name": "ipython",
    "version": 3
   },
   "file_extension": ".py",
   "mimetype": "text/x-python",
   "name": "python",
   "nbconvert_exporter": "python",
   "pygments_lexer": "ipython3",
   "version": "3.12.7"
  }
 },
 "nbformat": 4,
 "nbformat_minor": 2
}
