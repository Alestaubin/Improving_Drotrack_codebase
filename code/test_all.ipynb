{
 "cells": [
  {
   "cell_type": "code",
   "execution_count": 1,
   "metadata": {},
   "outputs": [],
   "source": [
    "from tracker import Tracker\n",
    "import cv2 as cv\n",
    "from optical_flow.bounding_box import BoundingBox\n",
    "from feature_detection.shi_tomasi import ShiTomasiDetector\n",
    "from optical_flow.lucas_kanade import LucasKanade\n",
    "from feature_description.sift_descriptor import SIFTDescriptor\n",
    "from segmentation.fuzzy_c_means import FuzzyCMeansSegmenter\n",
    "from tqdm import tqdm"
   ]
  },
  {
   "cell_type": "code",
   "execution_count": 2,
   "metadata": {},
   "outputs": [],
   "source": [
    "video_path = \"../videos/jog.mp4\"\n",
    "out_path = \"/workspaces/python-opencv/repo/out/alltogether.mp4\""
   ]
  },
  {
   "cell_type": "code",
   "execution_count": 3,
   "metadata": {},
   "outputs": [],
   "source": [
    "# x, y, w, h = 625, 375, 75, 125\n",
    "# x, y, w, h = 645, 385, 40, 100\n",
    "# x, y, w, h = 300, 180, 100, 60\n",
    "x, y, w, h = 645//2, 385//2, 40//2, 100//2\n",
    "init_bbox = BoundingBox(x, y, w, h)\n",
    "target_size = (360, 640)[::-1]"
   ]
  },
  {
   "cell_type": "code",
   "execution_count": 4,
   "metadata": {},
   "outputs": [],
   "source": [
    "cap = cv.VideoCapture(video_path)\n",
    "fps = cap.get(cv.CAP_PROP_FPS)"
   ]
  },
  {
   "cell_type": "code",
   "execution_count": 5,
   "metadata": {},
   "outputs": [],
   "source": [
    "ret, frame = cap.read()\n",
    "frame = cv.resize(frame, target_size)"
   ]
  },
  {
   "cell_type": "code",
   "execution_count": 6,
   "metadata": {},
   "outputs": [],
   "source": [
    "# sift_params = {\"sigma\":5, \"nOctaveLayers\":3, \"contrastThreshold\":0.03, \"edgeThreshold\":10}\n",
    "sift_params = {\"sigma\": 4, \"nOctaveLayers\":3, \"contrastThreshold\":0.03, \"edgeThreshold\":10}\n",
    "# sift_params = {}\n",
    "\n",
    "detector = ShiTomasiDetector()\n",
    "optical_flow = LucasKanade()\n",
    "descriptor = SIFTDescriptor(params=sift_params)\n",
    "segmenter = FuzzyCMeansSegmenter(5, 0, 10, 2, 2, 10)"
   ]
  },
  {
   "cell_type": "code",
   "execution_count": 7,
   "metadata": {},
   "outputs": [],
   "source": [
    "tracker = Tracker(frame, init_bbox, detector, optical_flow, descriptor, segmenter)"
   ]
  },
  {
   "cell_type": "code",
   "execution_count": 8,
   "metadata": {},
   "outputs": [],
   "source": [
    "fourcc = cv.VideoWriter_fourcc(*'mp4v')\n",
    "video_out = cv.VideoWriter(out_path, fourcc, 30, frame.shape[0:2][::-1]) "
   ]
  },
  {
   "cell_type": "code",
   "execution_count": null,
   "metadata": {},
   "outputs": [],
   "source": [
    "img2 = cv.rectangle(frame, (init_bbox.x, init_bbox.y), (init_bbox.x+init_bbox.w, init_bbox.y+init_bbox.h), 255, 2)\n",
    "video_out.write(img2)\n",
    "\n",
    "ret = True\n",
    "for i in tqdm(range(150)):\n",
    "\n",
    "    ret, frame = cap.read()\n",
    "\n",
    "    if not ret:\n",
    "        break\n",
    "\n",
    "    frame = cv.resize(frame, target_size)\n",
    "\n",
    "    bbox = tracker.track(frame)\n",
    "\n",
    "    img2 = cv.rectangle(frame, (bbox.x, bbox.y), (bbox.x+bbox.w, bbox.y+bbox.h), 255, 2)\n",
    "\n",
    "    video_out.write(img2)"
   ]
  },
  {
   "cell_type": "code",
   "execution_count": 10,
   "metadata": {},
   "outputs": [],
   "source": [
    "cap.release()\n",
    "video_out.release()"
   ]
  }
 ],
 "metadata": {
  "kernelspec": {
   "display_name": "Python 3",
   "language": "python",
   "name": "python3"
  },
  "language_info": {
   "codemirror_mode": {
    "name": "ipython",
    "version": 3
   },
   "file_extension": ".py",
   "mimetype": "text/x-python",
   "name": "python",
   "nbconvert_exporter": "python",
   "pygments_lexer": "ipython3",
   "version": "3.12.7"
  }
 },
 "nbformat": 4,
 "nbformat_minor": 2
}
