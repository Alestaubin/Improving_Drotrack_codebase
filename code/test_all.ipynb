{
 "cells": [
  {
   "cell_type": "code",
   "execution_count": 2,
   "metadata": {},
   "outputs": [],
   "source": [
    "from tracker import Tracker\n",
    "import cv2 as cv\n",
    "from optical_flow.bounding_box import BoundingBox\n",
    "from feature_detection.shi_tomasi import ShiTomasiDetector\n",
    "from optical_flow.lucas_kanade import LucasKanade\n",
    "from feature_description.sift_descriptor import SIFTDescriptor\n",
    "from segmentation.fuzzy_c_means import FuzzyCMeansSegmenter\n",
    "from tqdm import tqdm"
   ]
  },
  {
   "cell_type": "code",
   "execution_count": 3,
   "metadata": {},
   "outputs": [],
   "source": [
    "video_path = \"../videos/jog.mp4\"\n",
    "out_path = \"/workspaces/python-opencv/repo/out/alltogether.mp4\""
   ]
  },
  {
   "cell_type": "code",
   "execution_count": 14,
   "metadata": {},
   "outputs": [],
   "source": [
    "# x, y, w, h = 625, 375, 75, 125\n",
    "# x, y, w, h = 645, 385, 40, 100\n",
    "# x, y, w, h = 300, 180, 100, 60\n",
    "x, y, w, h = 645//2, 385//2, 40//2, 100//2\n",
    "init_bbox = BoundingBox(x, y, w, h)\n",
    "target_size = (360, 640)[::-1]"
   ]
  },
  {
   "cell_type": "code",
   "execution_count": 15,
   "metadata": {},
   "outputs": [],
   "source": [
    "cap = cv.VideoCapture(video_path)\n",
    "fps = cap.get(cv.CAP_PROP_FPS)"
   ]
  },
  {
   "cell_type": "code",
   "execution_count": 21,
   "metadata": {},
   "outputs": [
    {
     "data": {
      "text/plain": [
       "(360, 640, 3)"
      ]
     },
     "execution_count": 21,
     "metadata": {},
     "output_type": "execute_result"
    }
   ],
   "source": [
    "ret, frame = cap.read()\n",
    "frame = cv.resize(frame, target_size)\n",
    "frame.shape"
   ]
  },
  {
   "cell_type": "code",
   "execution_count": 17,
   "metadata": {},
   "outputs": [],
   "source": [
    "# sift_params = {\"sigma\":5, \"nOctaveLayers\":3, \"contrastThreshold\":0.03, \"edgeThreshold\":10}\n",
    "sift_params = {\"sigma\": 4, \"nOctaveLayers\":3, \"contrastThreshold\":0.03, \"edgeThreshold\":10}\n",
    "# sift_params = {}\n",
    "\n",
    "detector = ShiTomasiDetector()\n",
    "optical_flow = LucasKanade()\n",
    "descriptor = SIFTDescriptor(params=sift_params)\n",
    "segmenter = FuzzyCMeansSegmenter(5, 0, 10, 2, 2, 10)"
   ]
  },
  {
   "cell_type": "code",
   "execution_count": 18,
   "metadata": {},
   "outputs": [
    {
     "name": "stdout",
     "output_type": "stream",
     "text": [
      "[[[324. 201.]]\n",
      "\n",
      " [[340. 211.]]\n",
      "\n",
      " [[332. 233.]]\n",
      "\n",
      " [[335. 221.]]\n",
      "\n",
      " [[334. 193.]]\n",
      "\n",
      " [[334. 203.]]]\n"
     ]
    }
   ],
   "source": [
    "tracker = Tracker(frame, init_bbox, detector, optical_flow, descriptor, segmenter)"
   ]
  },
  {
   "cell_type": "code",
   "execution_count": 19,
   "metadata": {},
   "outputs": [],
   "source": [
    "fourcc = cv.VideoWriter_fourcc(*'mp4v')\n",
    "video_out = cv.VideoWriter(out_path, fourcc, 30, frame.shape[0:2][::-1]) "
   ]
  },
  {
   "cell_type": "code",
   "execution_count": 20,
   "metadata": {},
   "outputs": [
    {
     "name": "stderr",
     "output_type": "stream",
     "text": [
      "  1%|          | 1/150 [00:00<00:16,  9.30it/s]"
     ]
    },
    {
     "name": "stdout",
     "output_type": "stream",
     "text": [
      "frame size: (360, 640, 3)\n",
      "frame size: (360, 640, 3)\n",
      "frame size: (360, 640, 3)\n",
      "frame size: (360, 640, 3)\n",
      "frame size: (360, 640, 3)\n",
      "frame size: (360, 640, 3)\n",
      "frame size: (360, 640, 3)\n",
      "frame size: (360, 640, 3)\n",
      "frame size: (360, 640, 3)\n",
      "frame size: (360, 640, 3)\n",
      "frame size: (360, 640, 3)\n"
     ]
    },
    {
     "name": "stderr",
     "output_type": "stream",
     "text": [
      " 14%|█▍        | 21/150 [00:00<00:02, 52.31it/s]"
     ]
    },
    {
     "name": "stdout",
     "output_type": "stream",
     "text": [
      "frame size: (360, 640, 3)\n",
      "frame size: (360, 640, 3)\n",
      "frame size: (360, 640, 3)\n",
      "frame size: (360, 640, 3)\n",
      "frame size: (360, 640, 3)\n",
      "frame size: (360, 640, 3)\n",
      "frame size: (360, 640, 3)\n",
      "frame size: (360, 640, 3)\n",
      "frame size: (360, 640, 3)\n",
      "frame size: (360, 640, 3)\n",
      "frame size: (360, 640, 3)\n",
      "frame size: (360, 640, 3)\n",
      "frame size: (360, 640, 3)\n",
      "frame size: (360, 640, 3)\n",
      "frame size: (360, 640, 3)\n"
     ]
    },
    {
     "name": "stderr",
     "output_type": "stream",
     "text": [
      " 25%|██▍       | 37/150 [00:00<00:02, 54.33it/s]"
     ]
    },
    {
     "name": "stdout",
     "output_type": "stream",
     "text": [
      "frame size: (360, 640, 3)\n",
      "frame size: (360, 640, 3)\n",
      "frame size: (360, 640, 3)\n",
      "frame size: (360, 640, 3)\n",
      "frame size: (360, 640, 3)\n",
      "frame size: (360, 640, 3)\n",
      "frame size: (360, 640, 3)\n",
      "frame size: (360, 640, 3)\n",
      "frame size: (360, 640, 3)\n",
      "frame size: (360, 640, 3)\n",
      "frame size: (360, 640, 3)\n",
      "frame size: (360, 640, 3)\n",
      "frame size: (360, 640, 3)\n",
      "frame size: (360, 640, 3)\n",
      "frame size: (360, 640, 3)\n"
     ]
    },
    {
     "name": "stderr",
     "output_type": "stream",
     "text": [
      " 31%|███       | 46/150 [00:00<00:01, 52.36it/s]"
     ]
    },
    {
     "name": "stdout",
     "output_type": "stream",
     "text": [
      "frame size: (360, 640, 3)\n",
      "frame size: (360, 640, 3)\n",
      "frame size: (360, 640, 3)\n",
      "frame size: (360, 640, 3)\n",
      "frame size: (360, 640, 3)\n",
      "frame size: (360, 640, 3)\n",
      "frame size: (360, 640, 3)\n",
      "frame size: (360, 640, 3)\n",
      "frame size: (360, 640, 3)\n",
      "frame size: (360, 640, 3)\n",
      "frame size: (360, 640, 3)\n",
      "frame size: (360, 640, 3)\n",
      "frame size: (360, 640, 3)\n",
      "frame size: (360, 640, 3)\n",
      "frame size: (360, 640, 3)\n"
     ]
    },
    {
     "name": "stderr",
     "output_type": "stream",
     "text": [
      " 41%|████▏     | 62/150 [00:01<00:01, 53.99it/s]"
     ]
    },
    {
     "name": "stdout",
     "output_type": "stream",
     "text": [
      "frame size: (360, 640, 3)\n",
      "frame size: (360, 640, 3)\n",
      "frame size: (360, 640, 3)\n",
      "frame size: (360, 640, 3)\n",
      "frame size: (360, 640, 3)\n",
      "frame size: (360, 640, 3)\n",
      "frame size: (360, 640, 3)\n",
      "frame size: (360, 640, 3)\n",
      "frame size: (360, 640, 3)\n",
      "frame size: (360, 640, 3)\n",
      "frame size: (360, 640, 3)\n"
     ]
    },
    {
     "name": "stderr",
     "output_type": "stream",
     "text": [
      " 49%|████▉     | 74/150 [00:01<00:01, 55.56it/s]"
     ]
    },
    {
     "name": "stdout",
     "output_type": "stream",
     "text": [
      "frame size: (360, 640, 3)\n",
      "frame size: (360, 640, 3)\n",
      "frame size: (360, 640, 3)\n",
      "frame size: (360, 640, 3)\n",
      "frame size: (360, 640, 3)\n",
      "frame size: (360, 640, 3)\n",
      "frame size: (360, 640, 3)\n",
      "frame size: (360, 640, 3)\n",
      "frame size: (360, 640, 3)\n"
     ]
    },
    {
     "name": "stderr",
     "output_type": "stream",
     "text": [
      " 53%|█████▎    | 80/150 [00:01<00:01, 55.72it/s]"
     ]
    },
    {
     "name": "stdout",
     "output_type": "stream",
     "text": [
      "frame size: (360, 640, 3)\n",
      "frame size: (360, 640, 3)\n",
      "frame size: (360, 640, 3)\n",
      "frame size: (360, 640, 3)\n",
      "frame size: (360, 640, 3)\n",
      "frame size: (360, 640, 3)\n",
      "frame size: (360, 640, 3)\n",
      "frame size: (360, 640, 3)\n",
      "frame size: (360, 640, 3)\n",
      "frame size: (360, 640, 3)\n"
     ]
    },
    {
     "name": "stderr",
     "output_type": "stream",
     "text": [
      " 61%|██████    | 91/150 [00:01<00:01, 44.88it/s]"
     ]
    },
    {
     "name": "stdout",
     "output_type": "stream",
     "text": [
      "frame size: (360, 640, 3)\n",
      "frame size: (360, 640, 3)\n",
      "frame size: (360, 640, 3)\n",
      "frame size: (360, 640, 3)\n",
      "frame size: (360, 640, 3)\n",
      "frame size: (360, 640, 3)\n",
      "frame size: (360, 640, 3)\n",
      "frame size: (360, 640, 3)\n",
      "frame size: (360, 640, 3)\n",
      "frame size: (360, 640, 3)\n"
     ]
    },
    {
     "name": "stderr",
     "output_type": "stream",
     "text": [
      " 67%|██████▋   | 101/150 [00:02<00:01, 45.40it/s]"
     ]
    },
    {
     "name": "stdout",
     "output_type": "stream",
     "text": [
      "frame size: (360, 640, 3)\n",
      "frame size: (360, 640, 3)\n",
      "frame size: (360, 640, 3)\n",
      "frame size: (360, 640, 3)\n",
      "frame size: (360, 640, 3)\n",
      "frame size: (360, 640, 3)\n",
      "frame size: (360, 640, 3)\n",
      "frame size: (360, 640, 3)\n",
      "frame size: (360, 640, 3)\n",
      "frame size: (360, 640, 3)\n"
     ]
    },
    {
     "name": "stderr",
     "output_type": "stream",
     "text": [
      " 74%|███████▍  | 111/150 [00:02<00:00, 46.14it/s]"
     ]
    },
    {
     "name": "stdout",
     "output_type": "stream",
     "text": [
      "frame size: (360, 640, 3)\n",
      "frame size: (360, 640, 3)\n",
      "frame size: (360, 640, 3)\n",
      "frame size: (360, 640, 3)\n",
      "frame size: (360, 640, 3)\n",
      "frame size: (360, 640, 3)\n",
      "frame size: (360, 640, 3)\n",
      "frame size: (360, 640, 3)\n",
      "frame size: (360, 640, 3)\n",
      "frame size: (360, 640, 3)\n"
     ]
    },
    {
     "name": "stderr",
     "output_type": "stream",
     "text": [
      " 81%|████████  | 121/150 [00:02<00:00, 46.97it/s]"
     ]
    },
    {
     "name": "stdout",
     "output_type": "stream",
     "text": [
      "frame size: (360, 640, 3)\n",
      "frame size: (360, 640, 3)\n",
      "frame size: (360, 640, 3)\n",
      "frame size: (360, 640, 3)\n",
      "frame size: (360, 640, 3)\n",
      "frame size: (360, 640, 3)\n",
      "frame size: (360, 640, 3)\n",
      "frame size: (360, 640, 3)\n",
      "frame size: (360, 640, 3)\n",
      "frame size: (360, 640, 3)\n"
     ]
    },
    {
     "name": "stderr",
     "output_type": "stream",
     "text": [
      " 87%|████████▋ | 131/150 [00:02<00:00, 46.52it/s]"
     ]
    },
    {
     "name": "stdout",
     "output_type": "stream",
     "text": [
      "frame size: (360, 640, 3)\n",
      "frame size: (360, 640, 3)\n",
      "frame size: (360, 640, 3)\n",
      "frame size: (360, 640, 3)\n",
      "frame size: (360, 640, 3)\n",
      "frame size: (360, 640, 3)\n",
      "frame size: (360, 640, 3)\n",
      "frame size: (360, 640, 3)\n",
      "frame size: (360, 640, 3)\n",
      "frame size: (360, 640, 3)\n"
     ]
    },
    {
     "name": "stderr",
     "output_type": "stream",
     "text": [
      " 94%|█████████▍| 141/150 [00:02<00:00, 40.78it/s]"
     ]
    },
    {
     "name": "stdout",
     "output_type": "stream",
     "text": [
      "frame size: (360, 640, 3)\n",
      "frame size: (360, 640, 3)\n",
      "frame size: (360, 640, 3)\n",
      "frame size: (360, 640, 3)\n",
      "frame size: (360, 640, 3)\n",
      "frame size: (360, 640, 3)\n",
      "frame size: (360, 640, 3)\n",
      "frame size: (360, 640, 3)\n",
      "frame size: (360, 640, 3)\n",
      "frame size: (360, 640, 3)\n"
     ]
    },
    {
     "name": "stderr",
     "output_type": "stream",
     "text": [
      "100%|██████████| 150/150 [00:03<00:00, 49.23it/s]"
     ]
    },
    {
     "name": "stdout",
     "output_type": "stream",
     "text": [
      "frame size: (360, 640, 3)\n",
      "frame size: (360, 640, 3)\n",
      "frame size: (360, 640, 3)\n",
      "frame size: (360, 640, 3)\n"
     ]
    },
    {
     "name": "stderr",
     "output_type": "stream",
     "text": [
      "\n"
     ]
    }
   ],
   "source": [
    "img2 = cv.rectangle(frame, (init_bbox.x, init_bbox.y), (init_bbox.x+init_bbox.w, init_bbox.y+init_bbox.h), 255, 2)\n",
    "video_out.write(img2)\n",
    "\n",
    "ret = True\n",
    "for i in tqdm(range(150)):\n",
    "\n",
    "    ret, frame = cap.read()\n",
    "\n",
    "    if not ret:\n",
    "        break\n",
    "\n",
    "    frame = cv.resize(frame, target_size)\n",
    "    print(\"frame size:\", frame.shape)\n",
    "\n",
    "    bbox = tracker.track(frame)\n",
    "\n",
    "    img2 = cv.rectangle(frame, (bbox.x, bbox.y), (bbox.x+bbox.w, bbox.y+bbox.h), 255, 2)\n",
    "\n",
    "    video_out.write(img2)"
   ]
  },
  {
   "cell_type": "code",
   "execution_count": 11,
   "metadata": {},
   "outputs": [],
   "source": [
    "cap.release()\n",
    "video_out.release()"
   ]
  }
 ],
 "metadata": {
  "kernelspec": {
   "display_name": "drotrack",
   "language": "python",
   "name": "python3"
  },
  "language_info": {
   "codemirror_mode": {
    "name": "ipython",
    "version": 3
   },
   "file_extension": ".py",
   "mimetype": "text/x-python",
   "name": "python",
   "nbconvert_exporter": "python",
   "pygments_lexer": "ipython3",
   "version": "3.10.15"
  }
 },
 "nbformat": 4,
 "nbformat_minor": 2
}
